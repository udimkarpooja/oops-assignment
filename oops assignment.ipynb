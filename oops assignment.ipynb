{
 "cells": [
  {
   "cell_type": "markdown",
   "id": "909d0b90-fbcc-404e-be5f-806b888f1eca",
   "metadata": {},
   "source": [
    "Q1. What is Abstraction in OOps? Explain with an example."
   ]
  },
  {
   "cell_type": "markdown",
   "id": "626150a2-4129-4c99-b4a6-bcc930503a46",
   "metadata": {},
   "source": [
    "Abstraction in OOPS is used to hide unnecessary information and display only necessary information to the users interacting"
   ]
  },
  {
   "cell_type": "code",
   "execution_count": 2,
   "id": "8794457c-d79b-4296-81c4-3a238783a95e",
   "metadata": {},
   "outputs": [],
   "source": [
    "## EX\n",
    "\n",
    "import abc\n",
    "\n",
    "class vehical():\n",
    "    \n",
    "    @abc.abstractmethod\n",
    "    def name(self):\n",
    "        pass\n",
    "    \n",
    "    @abc.abstractmethod\n",
    "    def model(self):\n",
    "        pass\n",
    "    \n",
    "    @abc.abstractmethod\n",
    "    def speed(self):\n",
    "        pass\n",
    "    \n",
    "    @abc.abstractmethod\n",
    "    def colour(self):\n",
    "        pass"
   ]
  },
  {
   "cell_type": "code",
   "execution_count": 3,
   "id": "99ad02f5-a29a-4ab1-b8ca-056613bf11da",
   "metadata": {},
   "outputs": [],
   "source": [
    "class car(vehical):\n",
    "    def name(self):\n",
    "        return \"the car name is toyata\"\n",
    "    \n",
    "    def model(self):\n",
    "        return \"the car model is innova\"\n",
    "    \n",
    "    def colour(self):\n",
    "        return \"the colour is black\""
   ]
  },
  {
   "cell_type": "code",
   "execution_count": 4,
   "id": "b9b6af58-0c92-42ad-95a5-516f63516948",
   "metadata": {},
   "outputs": [],
   "source": [
    "class bicycle(vehical):\n",
    "    def colour(self):\n",
    "        return \"the bicycle colour is blue\""
   ]
  },
  {
   "cell_type": "code",
   "execution_count": 5,
   "id": "5fdb0c29-7b84-42b6-b555-3b78a4dba774",
   "metadata": {},
   "outputs": [],
   "source": [
    "car_obj = car()"
   ]
  },
  {
   "cell_type": "code",
   "execution_count": 7,
   "id": "e327c54c-f571-4a13-868d-ac815dcc357b",
   "metadata": {},
   "outputs": [
    {
     "data": {
      "text/plain": [
       "'the colour is black'"
      ]
     },
     "execution_count": 7,
     "metadata": {},
     "output_type": "execute_result"
    }
   ],
   "source": [
    "car_obj.colour()"
   ]
  },
  {
   "cell_type": "code",
   "execution_count": 8,
   "id": "5b6b35fe-8597-45a9-8aef-d25e3e4afebe",
   "metadata": {},
   "outputs": [
    {
     "data": {
      "text/plain": [
       "'the car name is toyata'"
      ]
     },
     "execution_count": 8,
     "metadata": {},
     "output_type": "execute_result"
    }
   ],
   "source": [
    "car_obj.name()"
   ]
  },
  {
   "cell_type": "code",
   "execution_count": 9,
   "id": "21455fd9-046c-4c13-aec5-dca708d5730e",
   "metadata": {},
   "outputs": [
    {
     "data": {
      "text/plain": [
       "'the car model is innova'"
      ]
     },
     "execution_count": 9,
     "metadata": {},
     "output_type": "execute_result"
    }
   ],
   "source": [
    "car_obj.model()"
   ]
  },
  {
   "cell_type": "code",
   "execution_count": 10,
   "id": "2fa21192-a2aa-4fb1-a034-9983e250fdf5",
   "metadata": {},
   "outputs": [],
   "source": [
    "bicycle_obj = bicycle()"
   ]
  },
  {
   "cell_type": "code",
   "execution_count": 11,
   "id": "b8f02db2-74dd-4055-9f52-ab73ed005677",
   "metadata": {},
   "outputs": [
    {
     "data": {
      "text/plain": [
       "'the bicycle colour is blue'"
      ]
     },
     "execution_count": 11,
     "metadata": {},
     "output_type": "execute_result"
    }
   ],
   "source": [
    "bicycle_obj.colour()"
   ]
  },
  {
   "cell_type": "markdown",
   "id": "28b08ffc-ded9-4eb5-9100-0eb478369b5c",
   "metadata": {},
   "source": [
    "Q2. Differentiate between Abstraction and Encapsulation. Explain with an example."
   ]
  },
  {
   "cell_type": "markdown",
   "id": "23eae09b-0510-41e8-a510-bc7aff004450",
   "metadata": {},
   "source": [
    "Abstraction is a method of removing the unnecessary details in the code and focusing on the relevant parts. For example, instead of writing a function that multiplies two numbers, we can write a function “multiply” and use it to multiply any number with any number. Abstraction is a way of representing some specific data. Encapsulation is a way of hiding the complexity of something and exposing only the parts you wish to expose. For example, if you have a class that has one or more private fields that you use to store the data, then you are in encapsulation."
   ]
  },
  {
   "cell_type": "code",
   "execution_count": 12,
   "id": "f5a7f649-95bf-43b9-a274-9e048e5648ac",
   "metadata": {},
   "outputs": [],
   "source": [
    "import abc\n",
    "\n",
    "class mobile:\n",
    "    \n",
    "    @abc.abstractmethod\n",
    "    def name(self):\n",
    "        pass\n",
    "    \n",
    "    @abc.abstractmethod\n",
    "    def ram(self):\n",
    "        pass\n",
    "    \n",
    "    @abc.abstractmethod\n",
    "    def colour(self):\n",
    "        pass"
   ]
  },
  {
   "cell_type": "code",
   "execution_count": 13,
   "id": "98328d0e-d07c-48de-9b49-62f85f27a571",
   "metadata": {},
   "outputs": [],
   "source": [
    "class mobile1(mobile):\n",
    "    def name(self):\n",
    "        return \"name is oppoA16\"\n",
    "    \n",
    "    def ram(self):\n",
    "        return \"64GB\"\n",
    "    \n",
    "    def colour(self):\n",
    "        return \"royal blue\""
   ]
  },
  {
   "cell_type": "code",
   "execution_count": 14,
   "id": "c6add1d0-1076-4e5d-8d1a-fe575f7d33e9",
   "metadata": {},
   "outputs": [],
   "source": [
    "obj = mobile1()"
   ]
  },
  {
   "cell_type": "code",
   "execution_count": 15,
   "id": "d8ec3cc7-08a1-4b23-85da-c19c3b5f47a1",
   "metadata": {},
   "outputs": [
    {
     "data": {
      "text/plain": [
       "'royal blue'"
      ]
     },
     "execution_count": 15,
     "metadata": {},
     "output_type": "execute_result"
    }
   ],
   "source": [
    "obj.colour()"
   ]
  },
  {
   "cell_type": "code",
   "execution_count": 16,
   "id": "3f2602fe-ff80-4bc6-9115-72b4114d0dfa",
   "metadata": {},
   "outputs": [
    {
     "data": {
      "text/plain": [
       "'name is oppoA16'"
      ]
     },
     "execution_count": 16,
     "metadata": {},
     "output_type": "execute_result"
    }
   ],
   "source": [
    "obj.name()"
   ]
  },
  {
   "cell_type": "code",
   "execution_count": 17,
   "id": "22b45526-eec8-4999-8529-8318124cf17a",
   "metadata": {},
   "outputs": [
    {
     "data": {
      "text/plain": [
       "'64GB'"
      ]
     },
     "execution_count": 17,
     "metadata": {},
     "output_type": "execute_result"
    }
   ],
   "source": [
    "obj.ram()"
   ]
  },
  {
   "cell_type": "code",
   "execution_count": 18,
   "id": "accd6808-cf04-4c60-a3a7-25e1e4eaa8a1",
   "metadata": {},
   "outputs": [],
   "source": [
    "class bank:\n",
    "    \n",
    "    def  __init__(self , balance):\n",
    "        self.__balance = balance\n",
    "        \n",
    "    def deposite(self , amount):\n",
    "        self.__balance = self.__balance + amount\n",
    "        \n",
    "    def withdrow(self , amount):\n",
    "        if self.__balance >= amount:\n",
    "            self.__balance = self.__balance - amount\n",
    "            return \"True\"\n",
    "        else :\n",
    "            return \"False\"\n",
    "        \n",
    "    def check_balance(self):\n",
    "        return self.__balance\n",
    "        \n",
    "        "
   ]
  },
  {
   "cell_type": "code",
   "execution_count": 20,
   "id": "717c7160-e0a1-4ba2-9a8c-48a9b5733d85",
   "metadata": {},
   "outputs": [],
   "source": [
    "rakesh = bank(500)"
   ]
  },
  {
   "cell_type": "code",
   "execution_count": 21,
   "id": "de5a2e23-1788-4abc-aca1-3f81eec7ebcc",
   "metadata": {},
   "outputs": [],
   "source": [
    "rakesh.deposite(200)"
   ]
  },
  {
   "cell_type": "code",
   "execution_count": 22,
   "id": "7189c87a-8325-4bf1-b76a-9b1038ef09d2",
   "metadata": {},
   "outputs": [
    {
     "data": {
      "text/plain": [
       "700"
      ]
     },
     "execution_count": 22,
     "metadata": {},
     "output_type": "execute_result"
    }
   ],
   "source": [
    "rakesh.check_balance()"
   ]
  },
  {
   "cell_type": "code",
   "execution_count": 23,
   "id": "3949dc6c-ec5c-4072-942c-41154f4ded29",
   "metadata": {},
   "outputs": [
    {
     "data": {
      "text/plain": [
       "'True'"
      ]
     },
     "execution_count": 23,
     "metadata": {},
     "output_type": "execute_result"
    }
   ],
   "source": [
    "rakesh.withdrow(100)"
   ]
  },
  {
   "cell_type": "code",
   "execution_count": 24,
   "id": "e82bc81a-0221-4d23-a36e-f0c4a7486772",
   "metadata": {},
   "outputs": [
    {
     "data": {
      "text/plain": [
       "600"
      ]
     },
     "execution_count": 24,
     "metadata": {},
     "output_type": "execute_result"
    }
   ],
   "source": [
    "rakesh.check_balance()"
   ]
  },
  {
   "cell_type": "code",
   "execution_count": 25,
   "id": "7d3b960e-244a-4ed9-95f9-1010552d6698",
   "metadata": {},
   "outputs": [
    {
     "data": {
      "text/plain": [
       "'False'"
      ]
     },
     "execution_count": 25,
     "metadata": {},
     "output_type": "execute_result"
    }
   ],
   "source": [
    "rakesh.withdrow(1000)"
   ]
  },
  {
   "cell_type": "markdown",
   "id": "c26a310e-9dab-4667-bcdf-82822b394418",
   "metadata": {},
   "source": [
    "Q3. What is abc module in python? Why is it used?"
   ]
  },
  {
   "cell_type": "markdown",
   "id": "f09ba6cf-6ff4-4411-98e3-65b8099faa62",
   "metadata": {},
   "source": [
    "\n",
    "@abc.abstractmethod prevents any attempt to instantiate a subclass that doesn’t override a particular method in the superclass"
   ]
  },
  {
   "cell_type": "code",
   "execution_count": 26,
   "id": "4b8224c7-4c67-4146-a0c2-d41ae84ec13e",
   "metadata": {},
   "outputs": [
    {
     "name": "stdout",
     "output_type": "stream",
     "text": [
      "area:  200\n"
     ]
    }
   ],
   "source": [
    "import abc\n",
    "class Shape:\n",
    "    @abc.abstractmethod\n",
    "    def area(self):\n",
    "        pass\n",
    "    \n",
    "class Rectangle(Shape):\n",
    "    def __init__(self, x,y):\n",
    "        self.l = x\n",
    "        self.b=y\n",
    "    def area(self):\n",
    "        return self.l*self.b\n",
    "r = Rectangle(10,20)\n",
    "print ('area: ',r.area())"
   ]
  },
  {
   "cell_type": "markdown",
   "id": "9da215fe-7a46-4d9a-996c-7dd59fbf02cf",
   "metadata": {},
   "source": [
    "Q4. How can we achieve data abstraction?"
   ]
  },
  {
   "cell_type": "markdown",
   "id": "cc3f2820-3f53-480e-ac4a-8c0840098a92",
   "metadata": {},
   "source": [
    "We can achieve data abstraction through Abstract classes and interfaces."
   ]
  },
  {
   "cell_type": "raw",
   "id": "2991969d-cafd-422f-8423-9ef0c13ceaaa",
   "metadata": {},
   "source": [
    "Here's how they work:\n",
    "\n",
    "Importing the abc Module. To use abstract base classes, you need to import the abc module: from abc import ABC, abstractmethod.\n",
    "\n",
    "Creating an Abstract Base Class: To define an abstract base class, you inherit from the ABC class provided by the abc module. ...\n",
    "\n",
    "Creating Concrete Subclasses:"
   ]
  },
  {
   "cell_type": "markdown",
   "id": "816645e8-e345-4f3b-9ad6-0bacee8e9b0f",
   "metadata": {},
   "source": [
    "Q5. Can we create an instance of an abstract class? Explain your answer."
   ]
  },
  {
   "cell_type": "code",
   "execution_count": null,
   "id": "912e1555-1db8-43bf-a198-e60b1c53a1a4",
   "metadata": {},
   "outputs": [],
   "source": []
  }
 ],
 "metadata": {
  "kernelspec": {
   "display_name": "Python 3 (ipykernel)",
   "language": "python",
   "name": "python3"
  },
  "language_info": {
   "codemirror_mode": {
    "name": "ipython",
    "version": 3
   },
   "file_extension": ".py",
   "mimetype": "text/x-python",
   "name": "python",
   "nbconvert_exporter": "python",
   "pygments_lexer": "ipython3",
   "version": "3.10.8"
  }
 },
 "nbformat": 4,
 "nbformat_minor": 5
}
